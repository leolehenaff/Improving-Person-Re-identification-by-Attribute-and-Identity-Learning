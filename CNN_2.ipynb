{
 "cells": [
  {
   "cell_type": "markdown",
   "metadata": {},
   "source": [
    "# David Seroussi - Léo Le Henaff"
   ]
  },
  {
   "cell_type": "markdown",
   "metadata": {},
   "source": [
    "## Person Re-identification Project"
   ]
  },
  {
   "cell_type": "markdown",
   "metadata": {},
   "source": [
    "### Path où se situe Market1501 et attributes.json"
   ]
  },
  {
   "cell_type": "code",
   "execution_count": 16,
   "metadata": {},
   "outputs": [],
   "source": [
    "main_path = '/home/david/Documents/cours_cnn/projet CNN ESME 2019'"
   ]
  },
  {
   "cell_type": "markdown",
   "metadata": {},
   "source": [
    "### Importation des libraries"
   ]
  },
  {
   "cell_type": "code",
   "execution_count": 2,
   "metadata": {
    "colab": {
     "base_uri": "https://localhost:8080/",
     "height": 81
    },
    "colab_type": "code",
    "id": "4RZv58Lgjk6h",
    "outputId": "6d10fb5f-6a93-4510-dd5c-5a9de7afbd7c"
   },
   "outputs": [
    {
     "name": "stdout",
     "output_type": "stream",
     "text": [
      "1.14.0\n"
     ]
    }
   ],
   "source": [
    "import numpy as np\n",
    "import pandas as pd\n",
    "from os import walk \n",
    "import json\n",
    "import os\n",
    "import tensorflow as tf\n",
    "import imgaug as ia\n",
    "import imgaug.augmenters as iaa\n",
    "import sklearn\n",
    "import matplotlib.pyplot as plt\n",
    "import seaborn as sn\n",
    "import pandas as pd\n",
    "from tensorflow.keras.preprocessing.image import load_img, img_to_array\n",
    "from sklearn.model_selection import train_test_split\n",
    "\n",
    "print(tf.__version__)"
   ]
  },
  {
   "cell_type": "markdown",
   "metadata": {},
   "source": [
    "### Importation des labels depuis le fichier json"
   ]
  },
  {
   "cell_type": "code",
   "execution_count": 3,
   "metadata": {
    "colab": {},
    "colab_type": "code",
    "id": "3bbK3bjzo1Jw"
   },
   "outputs": [],
   "source": [
    "def get_labels(json_data):\n",
    "    \n",
    "    \"\"\"\n",
    "    Fonction permettant de mettre les labels sous forme de dataframe à partir d'un objet json.\n",
    "    On réduit l'age en 2 catégories, car young et old sont très minoritaires.\n",
    "    \"\"\"\n",
    "    \n",
    "    df = pd.DataFrame(columns=json_data.keys())\n",
    "    for key in json_data.keys():\n",
    "        df[key] = json_data[key]\n",
    "\n",
    "    df.set_index('image_index', inplace=True)\n",
    "    df.sort_index(inplace=True)\n",
    "    df.index = df.index.astype(int)\n",
    "\n",
    "    df = df-1\n",
    "\n",
    "    df.loc[df['age'] == 1, 'age'] = 0\n",
    "    df.loc[df['age'] > 1, 'age'] = 1\n",
    "\n",
    "    return df.sort_index(axis=1)"
   ]
  },
  {
   "cell_type": "code",
   "execution_count": 17,
   "metadata": {
    "colab": {},
    "colab_type": "code",
    "id": "DorvXBaSO4BI"
   },
   "outputs": [],
   "source": [
    "def get_train_test_labels():\n",
    "    \n",
    "    \"\"\"\n",
    "    Retourne les labels pour les sets de train/test\n",
    "    \"\"\"\n",
    "    \n",
    "    with open( main_path + '/market_attribute.json') as json_file:\n",
    "        data = json.load(json_file)\n",
    "        train = data['train']\n",
    "        test = data['test']\n",
    "\n",
    "    return get_labels(train), get_labels(test)"
   ]
  },
  {
   "cell_type": "code",
   "execution_count": 34,
   "metadata": {},
   "outputs": [],
   "source": [
    "def get_train_test_images():\n",
    "    \n",
    "    \"\"\"\n",
    "    Retourne une liste contenant le nom des images\n",
    "    \"\"\"\n",
    "    \n",
    "    files = []\n",
    "    for (dirpath, dirnames, filenames) in walk(main_path + \"/Market-1501\"):\n",
    "        files.extend(filenames)\n",
    "        break\n",
    "        \n",
    "    print('number of images:', len(files))\n",
    "    \n",
    "    files.sort()\n",
    "    \n",
    "        \n",
    "    train_images = []\n",
    "    test_images = []\n",
    "    with open(main_path + '/market_attribute.json') as json_file:\n",
    "        data = json.load(json_file)\n",
    "        train_indexes = data['train']['image_index']\n",
    "        test_indexes = data['test']['image_index']\n",
    "        for i, file in enumerate(files):\n",
    "            if file[:4] in train_indexes:\n",
    "                train_images.append(file)\n",
    "            elif file[:4] in test_indexes:\n",
    "                test_images.append(file)\n",
    "                \n",
    "    return np.array(train_images), np.array(test_images)"
   ]
  },
  {
   "cell_type": "markdown",
   "metadata": {},
   "source": [
    "### Custom Generator"
   ]
  },
  {
   "cell_type": "code",
   "execution_count": 19,
   "metadata": {
    "colab": {},
    "colab_type": "code",
    "id": "u2z3u-dXj7dY"
   },
   "outputs": [],
   "source": [
    "class ImageGenerator(tf.keras.utils.Sequence):\n",
    "\n",
    "    \"\"\"\n",
    "    Generator permettant de générer des batchs d'images et leur label correspondant.\n",
    "    \n",
    "    list_IDs: la liste du nom des images\n",
    "    labels: les labels sous forme de dataframe, avec l'id de l'image en index\n",
    "    model_type: 'multilabel' pour classifier uniquement les attributs ou \n",
    "                None pour classifier les attributs et les ids\n",
    "    should_augment: True active l'augmentation, False la désactive\n",
    "    batch_size: taille du batch\n",
    "    dim: dimensions des images\n",
    "    n_classes: nombre d'attributs\n",
    "    n_ids: nombre d'ids,\n",
    "    shuffle: True mélange, False laisse dans l'order tel quel\n",
    "    \"\"\"\n",
    "    \n",
    "    def __init__(self, list_IDs, labels, model_type=None, should_augment=False, batch_size=32, dim=(224, 224), n_channels=3,\n",
    "                 n_classes=10,n_ids=750, shuffle=True):\n",
    "\n",
    "        self.model_type = model_type\n",
    "        self.dim = dim\n",
    "        self.batch_size = batch_size\n",
    "        self.labels = labels\n",
    "        self.list_IDs = list_IDs\n",
    "        self.n_channels = n_channels\n",
    "        self.n_classes = n_classes\n",
    "        self.n_ids = n_ids\n",
    "        self.shuffle = shuffle\n",
    "        self.should_augment = should_augment\n",
    "        self.on_epoch_end()\n",
    "        self.init_augment()\n",
    "\n",
    "    def init_augment(self):\n",
    "        \n",
    "        \"\"\"\n",
    "        Initialisation des fonctions d'augmentation\n",
    "        \"\"\"\n",
    "        \n",
    "        self.seq = iaa.Sequential([\n",
    "            iaa.Fliplr(0.5),\n",
    "            iaa.Sometimes(0.5,\n",
    "                iaa.GaussianBlur(sigma=(0, 0.5))\n",
    "            ),\n",
    "            iaa.ContrastNormalization((0.75, 1.5)),\n",
    "            iaa.AdditiveGaussianNoise(loc=0, scale=(0.0, 0.05*255), per_channel=0.5),\n",
    "            iaa.Affine(\n",
    "                scale={\"x\": (0.8, 1.2), \"y\": (0.8, 1.2)},\n",
    "                translate_percent={\"x\": (-0.1, 0.1), \"y\": (-0.1, 0.1)},\n",
    "                rotate=(-10, 10),\n",
    "                shear=(-8, 8)\n",
    "            )\n",
    "        ], random_order=True) # apply augmenters in random order\n",
    "\n",
    "    def augment(self, images):\n",
    "        images_aug = self.seq(images=images)\n",
    "        return images_aug\n",
    "\n",
    "    def __len__(self):\n",
    "        return int(np.floor(len(self.list_IDs) / self.batch_size))\n",
    "\n",
    "    def __getitem__(self, index):\n",
    "        \n",
    "        \"\"\"\n",
    "        Génère les indexes des images du prochain batch\n",
    "        \"\"\"\n",
    "        \n",
    "        indexes = self.indexes[index*self.batch_size:(index+1)*self.batch_size]\n",
    "        list_IDs_temp = [self.list_IDs[k] for k in indexes]\n",
    "        X, y = self.__data_generation(list_IDs_temp)\n",
    "\n",
    "        return X, y\n",
    "\n",
    "    def on_epoch_end(self):\n",
    "        self.indexes = np.arange(len(self.list_IDs))\n",
    "        if self.shuffle == True:\n",
    "            np.random.shuffle(self.indexes)\n",
    "\n",
    "    def __data_generation(self, list_IDs_temp):\n",
    "        \n",
    "        \"\"\"\n",
    "        Génère les images et les labels\n",
    "        \"\"\"\n",
    "        \n",
    "        X = np.empty((self.batch_size, * self.dim, self.n_channels))\n",
    "        y_attributes = np.empty((self.batch_size, self.n_classes), dtype=int)\n",
    "        y_id = np.empty((self.batch_size, self.n_ids), dtype=int)\n",
    "\n",
    "        for i, image_path in enumerate(list_IDs_temp):\n",
    "\n",
    "            img = tf.keras.preprocessing.image.load_img(main_path + \"/Market-1501/\" + image_path, target_size=(224, 224, 3))\n",
    "            \n",
    "            img_array = tf.keras.preprocessing.image.img_to_array(img)\n",
    "\n",
    "            # Augmente les images 1 fois sur 2\n",
    "            if self.should_augment and np.random.choice([0,1]) == 0:\n",
    "                img_array = self.augment([img_array])[0]\n",
    "\n",
    "            img_array = tf.keras.applications.resnet50.preprocess_input(img_array)\n",
    "\n",
    "            img_index = int(image_path[:4])\n",
    "\n",
    "            labels = self.labels.loc[img_index]\n",
    "\n",
    "            X[i, ] = img_array\n",
    "            y_attributes[i, ] = labels\n",
    "            y_id[i, ] = tf.keras.utils.to_categorical(self.labels.index.get_loc(img_index), num_classes=self.n_ids)\n",
    "\n",
    "        if self.model_type == 'multilabel':\n",
    "            return X, y_attributes\n",
    "\n",
    "        return X, { 'dense_8': y_attributes, 're_id': y_id }\n",
    "\n"
   ]
  },
  {
   "cell_type": "code",
   "execution_count": 20,
   "metadata": {
    "colab": {},
    "colab_type": "code",
    "id": "P4uNxzKxHiKd"
   },
   "outputs": [],
   "source": [
    "def confusion_matrix(generator, labels):\n",
    "    \n",
    "    \"\"\"\n",
    "    Affiche une matrice de confusion (ne marche pas du tout à 100%)\n",
    "    \"\"\"\n",
    "    \n",
    "    pred_labels = []\n",
    "    true_labels = []\n",
    "\n",
    "    for (X, y) in generator:\n",
    "        preds = model.predict(X)\n",
    "    for pred, label in zip(preds, y):\n",
    "        pred_labels.append(labels[np.argmax(pred)])\n",
    "        true_labels.append(labels[np.argmax(label)])\n",
    "\n",
    "    np.set_printoptions(3, suppress=True)\n",
    "    conf = sklearn.metrics.confusion_matrix(true_labels, pred_labels, labels=labels)\n",
    "    conf = conf / conf.astype(np.float).sum(axis=1)\n",
    "\n",
    "    metrics = sklearn.metrics.precision_recall_fscore_support(true_labels, pred_labels, average='macro')\n",
    "    print(metrics)\n",
    "\n",
    "    skplt.metrics.plot_roc_curve(y_true, y_probas)\n",
    "    plt.show()\n",
    "\n",
    "    df_cm = pd.DataFrame(conf, index = labels, columns = labels)\n",
    "    plt.figure(figsize = (10,7))\n",
    "    sn.heatmap(df_cm, annot=True)"
   ]
  },
  {
   "cell_type": "code",
   "execution_count": 21,
   "metadata": {
    "colab": {},
    "colab_type": "code",
    "id": "Uj-X8ew0Ho89"
   },
   "outputs": [],
   "source": [
    "def plot_history(history):\n",
    "    plt.plot(history.history['loss'], 'r')\n",
    "    plt.plot(history.history['val_loss'], 'b')\n",
    "\n",
    "    plt.title('Model loss')\n",
    "    plt.ylabel('Loss')\n",
    "    plt.xlabel('Epoch')\n",
    "    plt.legend(['Train', 'Test'], loc='upper left')\n",
    "    plt.show()\n",
    "\n",
    "    plt.plot(history.history['acc'], 'r')\n",
    "    plt.plot(history.history['val_acc'], 'b')\n",
    "\n",
    "    plt.title('Model Accuracy')\n",
    "    plt.ylabel('Accuracy')\n",
    "    plt.xlabel('Epoch')\n",
    "    plt.legend(['Train', 'Test'], loc='upper left')\n",
    "    plt.show()"
   ]
  },
  {
   "cell_type": "code",
   "execution_count": 22,
   "metadata": {
    "colab": {},
    "colab_type": "code",
    "id": "jppTIkiscgSd"
   },
   "outputs": [],
   "source": [
    "def remove_unlabeled(labels, images):\n",
    "    \n",
    "    \"\"\"\n",
    "    Permet de retirer les images pour lesquelles aucune couleur n'est labellisée.\n",
    "    Au final nous n'utiliserons pas cette fonction.\n",
    "    \"\"\"\n",
    "    \n",
    "    keys_to_remove = []\n",
    "    for key, val in labels.items():\n",
    "        if np.sum(val[13:21] - 1) == 0:\n",
    "            keys_to_remove.append(key)\n",
    "\n",
    "    for key in keys_to_remove:\n",
    "        labels.pop(key, None)\n",
    "\n",
    "    new_images = [im for im in images if im[:4] not in keys_to_remove]\n",
    "\n",
    "    return labels, new_images"
   ]
  },
  {
   "cell_type": "code",
   "execution_count": 23,
   "metadata": {
    "colab": {},
    "colab_type": "code",
    "id": "iZ-K1KAEHuvZ"
   },
   "outputs": [],
   "source": [
    "def load_model(path):\n",
    "    model = tf.keras.models.load_model(path)\n",
    "    return model"
   ]
  },
  {
   "cell_type": "markdown",
   "metadata": {},
   "source": [
    "### Différents Modèles"
   ]
  },
  {
   "cell_type": "code",
   "execution_count": 29,
   "metadata": {
    "colab": {},
    "colab_type": "code",
    "id": "vLGIFMwElCOo"
   },
   "outputs": [],
   "source": [
    "def attributes_model(n_attributes=27):\n",
    "    model = tf.keras.models.Sequential()\n",
    "    model.add(tf.keras.applications.ResNet50(weights='imagenet', include_top=False, input_shape=(224, 224, 3)))\n",
    "    model.add(tf.keras.layers.GlobalAveragePooling2D())\n",
    "    #model.add(tf.keras.layers.Flatten())\n",
    "    model.add(tf.keras.layers.Dropout(0.5))\n",
    "    model.add(tf.keras.layers.Dense(512, activation='relu', name='features'))\n",
    "    model.add(tf.keras.layers.BatchNormalization())\n",
    "    model.add(tf.keras.layers.Dropout(0.5))\n",
    "    model.add(tf.keras.layers.Dense(n_attributes, activation='sigmoid', name='attributes'))\n",
    "\n",
    "    # for layer in model.layers[0].layers:\n",
    "    #     layer.trainable = False\n",
    "\n",
    "    model.compile(optimizer=tf.keras.optimizers.Adam(lr=0.0003),\n",
    "                loss=\"binary_crossentropy\",\n",
    "                metrics=[\"accuracy\"])\n",
    "\n",
    "    print(model.summary())\n",
    "\n",
    "    return model\n",
    "\n",
    "def id_model(n_attributes=24, n_ids=750, lambda_=0.8, cnn_model=None, freeze_cnn=False, freeze_ids=False):\n",
    "    \n",
    "    \"\"\"\n",
    "    Modèle pour la classification d'id.\n",
    "    On utilise l'optimizer SGD (car Adam donne de mauvais résultats avec la double loss)\n",
    "    \n",
    "    n_attributes: nombre d'attributs à classifier\n",
    "    n_ids: nombre d'ids à classifier\n",
    "    lambda: coefficient multiplicateur de la loss (voir paper)\n",
    "    cnn_model: modèle pré-entrainé sur les attributs. Si None, un modèle est créé.\n",
    "    freeze_cnn: freeze la partie cnn si True\n",
    "    freeze_ids: freeze la partie id si True\n",
    "    \"\"\"\n",
    "\n",
    "    if cnn_model == None:\n",
    "\n",
    "        cnn_model = tf.keras.models.Sequential()\n",
    "        cnn_model.add(tf.keras.applications.ResNet50(weights='imagenet', include_top=False, input_shape=(224, 224, 3)))\n",
    "        cnn_model.add(tf.keras.layers.GlobalAveragePooling2D())\n",
    "        cnn_model.add(tf.keras.layers.Dropout(0.5))\n",
    "        cnn_model.add(tf.keras.layers.Dense(512, activation='relu'))\n",
    "        cnn_model.add(tf.keras.layers.BatchNormalization())\n",
    "        cnn_model.add(tf.keras.layers.Dropout(0.5))\n",
    "\n",
    "        image_input = tf.keras.layers.Input(shape=(224, 224, 3))\n",
    "        feature_vector = cnn_model(image_input)\n",
    "\n",
    "        attributes_layer = tf.keras.layers.Dense(n_attributes, activation='sigmoid')(feature_vector)\n",
    "\n",
    "    else:\n",
    "\n",
    "        image_input = cnn_model.input\n",
    "\n",
    "        feature_vector = cnn_model.get_layer(\"dense_7\").output\n",
    "        attributes_layer = cnn_model.get_layer(\"dense_8\").output\n",
    "\n",
    "    re_weighting = tf.keras.layers.Dense(n_attributes, activation='sigmoid')(attributes_layer)\n",
    "    re_weighted_layer = tf.keras.layers.multiply([re_weighting, attributes_layer],  name='dense_8')\n",
    "\n",
    "    combined_features_layer = tf.keras.layers.concatenate([feature_vector, re_weighted_layer])\n",
    "    re_id_layer = tf.keras.layers.Dense(n_ids, activation='softmax', name='re_id')(combined_features_layer)\n",
    "\n",
    "    if freeze_cnn:\n",
    "        for layer in cnn_model.layers:\n",
    "            layer.trainable = False\n",
    "\n",
    "    if freeze_ids:\n",
    "        re_id_layer.trainable = False\n",
    "\n",
    "\n",
    "    model = tf.keras.models.Model(inputs=image_input, outputs=[re_weighted_layer, re_id_layer])\n",
    "    model.compile(optimizer=tf.keras.optimizers.SGD(learning_rate=0.01),\n",
    "                loss={\n",
    "                    'dense_8':'binary_crossentropy', \n",
    "                    're_id':'categorical_crossentropy'\n",
    "                },\n",
    "                loss_weights={\n",
    "                    'dense_8': (1-lambda_),\n",
    "                    're_id': lambda_\n",
    "                },\n",
    "                metrics=['accuracy'])\n",
    "\n",
    "    print(model.summary())\n",
    "\n",
    "    return model\n",
    "\n",
    "\n",
    "\n",
    "def multitask_model():\n",
    "    \n",
    "    \"\"\"\n",
    "    Modèle séparant couleurs et autres attributs avec 2 loss différentes (categorical et binary).\n",
    "    \"\"\"\n",
    "    \n",
    "    cnn_model = tf.keras.models.Sequential()\n",
    "    cnn_model.add(tf.keras.applications.ResNet50(weights='imagenet', include_top=False, input_shape=(224, 224, 3)))\n",
    "    cnn_model.add(tf.keras.layers.GlobalAveragePooling2D())\n",
    "    cnn_model.add(tf.keras.layers.Dropout(0.5))\n",
    "    cnn_model.add(tf.keras.layers.Dense(256, activation='relu'))\n",
    "    cnn_model.add(tf.keras.layers.BatchNormalization())\n",
    "    cnn_model.add(tf.keras.layers.Dropout(0.5))\n",
    "\n",
    "    # for layer in cnn_model.layers[0].layers:\n",
    "    #   layer.trainable = False\n",
    "\n",
    "    image_input = tf.keras.layers.Input(shape=(224, 224, 3))\n",
    "    feature_vector = cnn_model(image_input)\n",
    "\n",
    "    gender_layer = tf.keras.layers.Dense(256, activation='relu')(feature_vector)\n",
    "    gender_layer = tf.keras.layers.BatchNormalization()(gender_layer)\n",
    "    gender_layer = tf.keras.layers.Dropout(0.5)(gender_layer)\n",
    "    gender_layer = tf.keras.layers.Dense(1, activation='sigmoid', name='gender')(gender_layer)\n",
    "\n",
    "    upcolor_layer = tf.keras.layers.Dense(256, activation='relu')(feature_vector)\n",
    "    upcolor_layer = tf.keras.layers.BatchNormalization()(upcolor_layer)\n",
    "    upcolor_layer = tf.keras.layers.Dropout(0.5)(upcolor_layer)\n",
    "    upcolor_layer = tf.keras.layers.Dense(8, activation='softmax', name='upcolor')(gender_layer)\n",
    "\n",
    "    model = tf.keras.models.Model(inputs=image_input, outputs=[gender_layer, upcolor_layer])\n",
    "    model.compile(optimizer='adam',\n",
    "            loss={'gender':'binary_crossentropy', \n",
    "                  'upcolor':'categorical_crossentropy'},\n",
    "            metrics=['accuracy'])\n",
    "\n",
    "    print(model.summary())\n",
    "\n",
    "  \n",
    "    return model"
   ]
  },
  {
   "cell_type": "markdown",
   "metadata": {},
   "source": [
    "### Création des générateurs"
   ]
  },
  {
   "cell_type": "code",
   "execution_count": 31,
   "metadata": {
    "colab": {
     "base_uri": "https://localhost:8080/",
     "height": 34
    },
    "colab_type": "code",
    "id": "Pfi05TLvlEZ6",
    "outputId": "4f5dea06-eb3e-4829-985b-70d759c284af"
   },
   "outputs": [
    {
     "name": "stdout",
     "output_type": "stream",
     "text": [
      "number of images: 25260\n"
     ]
    }
   ],
   "source": [
    "attributes_length = 30\n",
    "batch_size = 32\n",
    "\n",
    "train_images, test_images = get_train_test_images()\n",
    "train_labels, test_labels = get_train_test_labels()\n",
    "\n",
    "# attributes\n",
    "ig_train_attributes = ImageGenerator(train_images, train_labels, n_classes=27, n_ids=len(train_labels) ,should_augment=True)\n",
    "ig_test_attributes = ImageGenerator(test_images, test_labels, n_classes=27, n_ids=len(test_labels))\n",
    "\n",
    "\n",
    "# re-id\n",
    "\n",
    "# On enlève ces trois attributs qui ont obtenus une ROC très faible lors de la classification d'attributs\n",
    "labels_to_remove = ['handbag', 'up', 'hat']\n",
    "train_labels = train_labels.drop(labels_to_remove, axis=1)\n",
    "test_labels = test_labels.drop(labels_to_remove, axis=1)\n",
    "\n",
    "# On sépare en train/test tout le dataset. \n",
    "# On va donc essayer de prédire sur les 1501 ids\n",
    "all_images = np.concatenate((train_images, test_images))\n",
    "all_labels = train_labels.append(test_labels)\n",
    "np.random.shuffle(all_images)\n",
    "train_index = int(0.75 * len(all_images))\n",
    "\n",
    "ig_train_reid = ImageGenerator(all_images[:train_index], all_labels, n_classes=24, n_ids=len(all_labels), should_augment=True)\n",
    "ig_test_reid = ImageGenerator(all_images[train_index:], all_labels, n_classes=24, n_ids=len(all_labels))"
   ]
  },
  {
   "cell_type": "markdown",
   "metadata": {},
   "source": [
    "### Création des modèles"
   ]
  },
  {
   "cell_type": "code",
   "execution_count": 30,
   "metadata": {
    "colab": {
     "base_uri": "https://localhost:8080/",
     "height": 558
    },
    "colab_type": "code",
    "id": "LjuXcmpilGE9",
    "outputId": "d5f81267-e894-456a-eaad-fdae2979b429",
    "scrolled": true
   },
   "outputs": [
    {
     "name": "stderr",
     "output_type": "stream",
     "text": [
      "/home/david/anaconda3/lib/python3.7/site-packages/keras_applications/resnet50.py:265: UserWarning: The output shape of `ResNet50(include_top=False)` has been changed since Keras 2.2.0.\n",
      "  warnings.warn('The output shape of `ResNet50(include_top=False)` '\n",
      "WARNING: Logging before flag parsing goes to stderr.\n",
      "W0202 23:33:09.415047 140447036118848 deprecation.py:506] From /home/david/anaconda3/lib/python3.7/site-packages/tensorflow/python/ops/init_ops.py:1251: calling VarianceScaling.__init__ (from tensorflow.python.ops.init_ops) with dtype is deprecated and will be removed in a future version.\n",
      "Instructions for updating:\n",
      "Call initializer instance with the dtype argument instead of passing it to the constructor\n",
      "W0202 23:33:09.638098 140447036118848 deprecation.py:323] From /home/david/anaconda3/lib/python3.7/site-packages/tensorflow/python/ops/nn_impl.py:180: add_dispatch_support.<locals>.wrapper (from tensorflow.python.ops.array_ops) is deprecated and will be removed in a future version.\n",
      "Instructions for updating:\n",
      "Use tf.where in 2.0, which has the same broadcast rule as np.where\n"
     ]
    },
    {
     "name": "stdout",
     "output_type": "stream",
     "text": [
      "Model: \"sequential\"\n",
      "_________________________________________________________________\n",
      "Layer (type)                 Output Shape              Param #   \n",
      "=================================================================\n",
      "resnet50 (Model)             (None, 7, 7, 2048)        23587712  \n",
      "_________________________________________________________________\n",
      "global_average_pooling2d (Gl (None, 2048)              0         \n",
      "_________________________________________________________________\n",
      "dropout (Dropout)            (None, 2048)              0         \n",
      "_________________________________________________________________\n",
      "features (Dense)             (None, 512)               1049088   \n",
      "_________________________________________________________________\n",
      "batch_normalization (BatchNo (None, 512)               2048      \n",
      "_________________________________________________________________\n",
      "dropout_1 (Dropout)          (None, 512)               0         \n",
      "_________________________________________________________________\n",
      "attributes (Dense)           (None, 27)                13851     \n",
      "=================================================================\n",
      "Total params: 24,652,699\n",
      "Trainable params: 24,598,555\n",
      "Non-trainable params: 54,144\n",
      "_________________________________________________________________\n",
      "None\n"
     ]
    },
    {
     "name": "stderr",
     "output_type": "stream",
     "text": [
      "/home/david/anaconda3/lib/python3.7/site-packages/keras_applications/resnet50.py:265: UserWarning: The output shape of `ResNet50(include_top=False)` has been changed since Keras 2.2.0.\n",
      "  warnings.warn('The output shape of `ResNet50(include_top=False)` '\n"
     ]
    },
    {
     "name": "stdout",
     "output_type": "stream",
     "text": [
      "Model: \"model\"\n",
      "__________________________________________________________________________________________________\n",
      "Layer (type)                    Output Shape         Param #     Connected to                     \n",
      "==================================================================================================\n",
      "input_3 (InputLayer)            [(None, 224, 224, 3) 0                                            \n",
      "__________________________________________________________________________________________________\n",
      "sequential_1 (Sequential)       (None, 512)          24638848    input_3[0][0]                    \n",
      "__________________________________________________________________________________________________\n",
      "dense_1 (Dense)                 (None, 24)           12312       sequential_1[1][0]               \n",
      "__________________________________________________________________________________________________\n",
      "dense_2 (Dense)                 (None, 24)           600         dense_1[0][0]                    \n",
      "__________________________________________________________________________________________________\n",
      "dense_8 (Multiply)              (None, 24)           0           dense_2[0][0]                    \n",
      "                                                                 dense_1[0][0]                    \n",
      "__________________________________________________________________________________________________\n",
      "concatenate (Concatenate)       (None, 536)          0           sequential_1[1][0]               \n",
      "                                                                 dense_8[0][0]                    \n",
      "__________________________________________________________________________________________________\n",
      "re_id (Dense)                   (None, 1501)         806037      concatenate[0][0]                \n",
      "==================================================================================================\n",
      "Total params: 25,457,797\n",
      "Trainable params: 25,403,653\n",
      "Non-trainable params: 54,144\n",
      "__________________________________________________________________________________________________\n",
      "None\n"
     ]
    }
   ],
   "source": [
    "model_attributes = attributes_model(n_attributes=ig_train_multilabel.n_classes)\n",
    "\n",
    "model_re_id = id_model(n_attributes=ig_train_reid.n_classes, n_ids=ig_test_reid.n_ids)"
   ]
  },
  {
   "cell_type": "markdown",
   "metadata": {},
   "source": [
    "### Entraînement des modèles"
   ]
  },
  {
   "cell_type": "code",
   "execution_count": 33,
   "metadata": {
    "colab": {
     "base_uri": "https://localhost:8080/",
     "height": 1000
    },
    "colab_type": "code",
    "collapsed": true,
    "id": "76LMHTkulHCb",
    "outputId": "5f2e5fce-bff3-4f5e-dc5e-0976d52def8f"
   },
   "outputs": [
    {
     "name": "stdout",
     "output_type": "stream",
     "text": [
      "0\n",
      "\n",
      "Epoch 00001: LearningRateScheduler reducing learning rate to 0.009999999776482582.\n",
      "Epoch 1/60\n",
      "  1/592 [..............................] - ETA: 14:57:41 - loss: 6.3018 - dense_8_loss: 0.6148 - re_id_loss: 7.7235 - dense_8_acc: 0.7174 - re_id_acc: 0.0000e+00"
     ]
    },
    {
     "ename": "KeyboardInterrupt",
     "evalue": "",
     "output_type": "error",
     "traceback": [
      "\u001b[0;31m---------------------------------------------------------------------------\u001b[0m",
      "\u001b[0;31mKeyboardInterrupt\u001b[0m                         Traceback (most recent call last)",
      "\u001b[0;32m<timed exec>\u001b[0m in \u001b[0;36m<module>\u001b[0;34m\u001b[0m\n",
      "\u001b[0;32m~/anaconda3/lib/python3.7/site-packages/tensorflow/python/keras/engine/training.py\u001b[0m in \u001b[0;36mfit_generator\u001b[0;34m(self, generator, steps_per_epoch, epochs, verbose, callbacks, validation_data, validation_steps, validation_freq, class_weight, max_queue_size, workers, use_multiprocessing, shuffle, initial_epoch)\u001b[0m\n\u001b[1;32m   1431\u001b[0m         \u001b[0mshuffle\u001b[0m\u001b[0;34m=\u001b[0m\u001b[0mshuffle\u001b[0m\u001b[0;34m,\u001b[0m\u001b[0;34m\u001b[0m\u001b[0;34m\u001b[0m\u001b[0m\n\u001b[1;32m   1432\u001b[0m         \u001b[0minitial_epoch\u001b[0m\u001b[0;34m=\u001b[0m\u001b[0minitial_epoch\u001b[0m\u001b[0;34m,\u001b[0m\u001b[0;34m\u001b[0m\u001b[0;34m\u001b[0m\u001b[0m\n\u001b[0;32m-> 1433\u001b[0;31m         steps_name='steps_per_epoch')\n\u001b[0m\u001b[1;32m   1434\u001b[0m \u001b[0;34m\u001b[0m\u001b[0m\n\u001b[1;32m   1435\u001b[0m   def evaluate_generator(self,\n",
      "\u001b[0;32m~/anaconda3/lib/python3.7/site-packages/tensorflow/python/keras/engine/training_generator.py\u001b[0m in \u001b[0;36mmodel_iteration\u001b[0;34m(model, data, steps_per_epoch, epochs, verbose, callbacks, validation_data, validation_steps, validation_freq, class_weight, max_queue_size, workers, use_multiprocessing, shuffle, initial_epoch, mode, batch_size, steps_name, **kwargs)\u001b[0m\n\u001b[1;32m    262\u001b[0m \u001b[0;34m\u001b[0m\u001b[0m\n\u001b[1;32m    263\u001b[0m       \u001b[0mis_deferred\u001b[0m \u001b[0;34m=\u001b[0m \u001b[0;32mnot\u001b[0m \u001b[0mmodel\u001b[0m\u001b[0;34m.\u001b[0m\u001b[0m_is_compiled\u001b[0m\u001b[0;34m\u001b[0m\u001b[0;34m\u001b[0m\u001b[0m\n\u001b[0;32m--> 264\u001b[0;31m       \u001b[0mbatch_outs\u001b[0m \u001b[0;34m=\u001b[0m \u001b[0mbatch_function\u001b[0m\u001b[0;34m(\u001b[0m\u001b[0;34m*\u001b[0m\u001b[0mbatch_data\u001b[0m\u001b[0;34m)\u001b[0m\u001b[0;34m\u001b[0m\u001b[0;34m\u001b[0m\u001b[0m\n\u001b[0m\u001b[1;32m    265\u001b[0m       \u001b[0;32mif\u001b[0m \u001b[0;32mnot\u001b[0m \u001b[0misinstance\u001b[0m\u001b[0;34m(\u001b[0m\u001b[0mbatch_outs\u001b[0m\u001b[0;34m,\u001b[0m \u001b[0mlist\u001b[0m\u001b[0;34m)\u001b[0m\u001b[0;34m:\u001b[0m\u001b[0;34m\u001b[0m\u001b[0;34m\u001b[0m\u001b[0m\n\u001b[1;32m    266\u001b[0m         \u001b[0mbatch_outs\u001b[0m \u001b[0;34m=\u001b[0m \u001b[0;34m[\u001b[0m\u001b[0mbatch_outs\u001b[0m\u001b[0;34m]\u001b[0m\u001b[0;34m\u001b[0m\u001b[0;34m\u001b[0m\u001b[0m\n",
      "\u001b[0;32m~/anaconda3/lib/python3.7/site-packages/tensorflow/python/keras/engine/training.py\u001b[0m in \u001b[0;36mtrain_on_batch\u001b[0;34m(self, x, y, sample_weight, class_weight, reset_metrics)\u001b[0m\n\u001b[1;32m   1173\u001b[0m       \u001b[0mself\u001b[0m\u001b[0;34m.\u001b[0m\u001b[0m_update_sample_weight_modes\u001b[0m\u001b[0;34m(\u001b[0m\u001b[0msample_weights\u001b[0m\u001b[0;34m=\u001b[0m\u001b[0msample_weights\u001b[0m\u001b[0;34m)\u001b[0m\u001b[0;34m\u001b[0m\u001b[0;34m\u001b[0m\u001b[0m\n\u001b[1;32m   1174\u001b[0m       \u001b[0mself\u001b[0m\u001b[0;34m.\u001b[0m\u001b[0m_make_train_function\u001b[0m\u001b[0;34m(\u001b[0m\u001b[0;34m)\u001b[0m\u001b[0;34m\u001b[0m\u001b[0;34m\u001b[0m\u001b[0m\n\u001b[0;32m-> 1175\u001b[0;31m       \u001b[0moutputs\u001b[0m \u001b[0;34m=\u001b[0m \u001b[0mself\u001b[0m\u001b[0;34m.\u001b[0m\u001b[0mtrain_function\u001b[0m\u001b[0;34m(\u001b[0m\u001b[0mins\u001b[0m\u001b[0;34m)\u001b[0m  \u001b[0;31m# pylint: disable=not-callable\u001b[0m\u001b[0;34m\u001b[0m\u001b[0;34m\u001b[0m\u001b[0m\n\u001b[0m\u001b[1;32m   1176\u001b[0m \u001b[0;34m\u001b[0m\u001b[0m\n\u001b[1;32m   1177\u001b[0m     \u001b[0;32mif\u001b[0m \u001b[0mreset_metrics\u001b[0m\u001b[0;34m:\u001b[0m\u001b[0;34m\u001b[0m\u001b[0;34m\u001b[0m\u001b[0m\n",
      "\u001b[0;32m~/anaconda3/lib/python3.7/site-packages/tensorflow/python/keras/backend.py\u001b[0m in \u001b[0;36m__call__\u001b[0;34m(self, inputs)\u001b[0m\n\u001b[1;32m   3290\u001b[0m \u001b[0;34m\u001b[0m\u001b[0m\n\u001b[1;32m   3291\u001b[0m     fetched = self._callable_fn(*array_vals,\n\u001b[0;32m-> 3292\u001b[0;31m                                 run_metadata=self.run_metadata)\n\u001b[0m\u001b[1;32m   3293\u001b[0m     \u001b[0mself\u001b[0m\u001b[0;34m.\u001b[0m\u001b[0m_call_fetch_callbacks\u001b[0m\u001b[0;34m(\u001b[0m\u001b[0mfetched\u001b[0m\u001b[0;34m[\u001b[0m\u001b[0;34m-\u001b[0m\u001b[0mlen\u001b[0m\u001b[0;34m(\u001b[0m\u001b[0mself\u001b[0m\u001b[0;34m.\u001b[0m\u001b[0m_fetches\u001b[0m\u001b[0;34m)\u001b[0m\u001b[0;34m:\u001b[0m\u001b[0;34m]\u001b[0m\u001b[0;34m)\u001b[0m\u001b[0;34m\u001b[0m\u001b[0;34m\u001b[0m\u001b[0m\n\u001b[1;32m   3294\u001b[0m     output_structure = nest.pack_sequence_as(\n",
      "\u001b[0;32m~/anaconda3/lib/python3.7/site-packages/tensorflow/python/client/session.py\u001b[0m in \u001b[0;36m__call__\u001b[0;34m(self, *args, **kwargs)\u001b[0m\n\u001b[1;32m   1456\u001b[0m         ret = tf_session.TF_SessionRunCallable(self._session._session,\n\u001b[1;32m   1457\u001b[0m                                                \u001b[0mself\u001b[0m\u001b[0;34m.\u001b[0m\u001b[0m_handle\u001b[0m\u001b[0;34m,\u001b[0m \u001b[0margs\u001b[0m\u001b[0;34m,\u001b[0m\u001b[0;34m\u001b[0m\u001b[0;34m\u001b[0m\u001b[0m\n\u001b[0;32m-> 1458\u001b[0;31m                                                run_metadata_ptr)\n\u001b[0m\u001b[1;32m   1459\u001b[0m         \u001b[0;32mif\u001b[0m \u001b[0mrun_metadata\u001b[0m\u001b[0;34m:\u001b[0m\u001b[0;34m\u001b[0m\u001b[0;34m\u001b[0m\u001b[0m\n\u001b[1;32m   1460\u001b[0m           \u001b[0mproto_data\u001b[0m \u001b[0;34m=\u001b[0m \u001b[0mtf_session\u001b[0m\u001b[0;34m.\u001b[0m\u001b[0mTF_GetBuffer\u001b[0m\u001b[0;34m(\u001b[0m\u001b[0mrun_metadata_ptr\u001b[0m\u001b[0;34m)\u001b[0m\u001b[0;34m\u001b[0m\u001b[0;34m\u001b[0m\u001b[0m\n",
      "\u001b[0;31mKeyboardInterrupt\u001b[0m: "
     ]
    }
   ],
   "source": [
    "%%time\n",
    "\n",
    "def lr_decay(epoch, current_lr):\n",
    "    if epoch > 40:\n",
    "        return current_lr / 10.0\n",
    "    return current_lr \n",
    "\n",
    "checkpoint = tf.keras.callbacks.ModelCheckpoint(\"./projet-cnn/cnn_re_id.h5\",monitor=\"val_re_id_acc\", save_best_only=True)\n",
    "earlyStopping = tf.keras.callbacks.EarlyStopping(monitor=\"val_re_id_acc\", patience=5)\n",
    "reduce_lr = tf.keras.callbacks.LearningRateScheduler(lr_decay, verbose=1)\n",
    "csv_logger = tf.keras.callbacks.CSVLogger('./training_cnn_re_id.log')\n",
    "\n",
    "epochs=60\n",
    "\n",
    "# Pour train le modèle attributes only, il suffit de remplacer \n",
    "# model_re_id par model_attributes\n",
    "# ig_train_reid par ig_train_attributes et ig_test_reid par ig_test_attributes\n",
    "\n",
    "history = model_re_id.fit_generator(\n",
    "    ig_train_reid,\n",
    "    validation_data=ig_test_reid,\n",
    "    epochs=epochs,\n",
    "    callbacks=[earlyStopping, checkpoint, reduce_lr, csv_logger]\n",
    ")\n",
    "\n",
    "# history = model_attributes.fit_generator(\n",
    "#     ig_train_attributes,\n",
    "#     validation_data=ig_test_attributes,\n",
    "#     epochs=epochs,\n",
    "#     callbacks=[earlyStopping, checkpoint, reduce_lr, csv_logger]\n",
    "# )"
   ]
  },
  {
   "cell_type": "markdown",
   "metadata": {},
   "source": [
    "### Distance Euclidienne"
   ]
  },
  {
   "cell_type": "code",
   "execution_count": null,
   "metadata": {},
   "outputs": [],
   "source": [
    "model = load_model('./cnn_re_id.h5')"
   ]
  },
  {
   "cell_type": "code",
   "execution_count": 0,
   "metadata": {
    "colab": {
     "base_uri": "https://localhost:8080/",
     "height": 34
    },
    "colab_type": "code",
    "collapsed": true,
    "id": "qM502ycjmDbp",
    "outputId": "eab95879-3369-426e-cb5e-c0c1b77f6a91"
   },
   "outputs": [
    {
     "name": "stdout",
     "output_type": "stream",
     "text": [
      "train: [0.7780446510533897, 0.1577774, 0.6202673, 0.9365899, 0.81584823]\n"
     ]
    }
   ],
   "source": [
    "print('train:',model.evaluate_generator(ig_train_reid))\n",
    "print('test:',model.evaluate_generator(ig_test_reid))\n",
    "#print('train without augment', model.evaluate_generator(ImageGenerator(train_images, train_labels, \"upcolor\", should_augment=False, n_classes=8)))"
   ]
  },
  {
   "cell_type": "code",
   "execution_count": 0,
   "metadata": {
    "colab": {
     "base_uri": "https://localhost:8080/",
     "height": 330
    },
    "colab_type": "code",
    "id": "DR1_2srWy44F",
    "outputId": "9e9306e0-af70-4a57-c212-fd33ff0ad12c"
   },
   "outputs": [
    {
     "name": "stdout",
     "output_type": "stream",
     "text": [
      "Model: \"model\"\n",
      "_________________________________________________________________\n",
      "Layer (type)                 Output Shape              Param #   \n",
      "=================================================================\n",
      "resnet50_input (InputLayer)  [(None, 224, 224, 3)]     0         \n",
      "_________________________________________________________________\n",
      "resnet50 (Model)             (None, 7, 7, 2048)        23587712  \n",
      "_________________________________________________________________\n",
      "global_average_pooling2d (Gl (None, 2048)              0         \n",
      "_________________________________________________________________\n",
      "dropout (Dropout)            (None, 2048)              0         \n",
      "_________________________________________________________________\n",
      "dense (Dense)                (None, 512)               1049088   \n",
      "=================================================================\n",
      "Total params: 24,636,800\n",
      "Trainable params: 24,583,680\n",
      "Non-trainable params: 53,120\n",
      "_________________________________________________________________\n"
     ]
    }
   ],
   "source": [
    "# On récupère la couche de 512 neurones après le ResNet pour obtenir le feature vector\n",
    "\n",
    "model_intermediate = tf.keras.models.Model(inputs=model.layers[1].input, outputs=[model.layers[1].get_layer('dense').output])\n",
    "model_intermediate.summary()"
   ]
  },
  {
   "cell_type": "markdown",
   "metadata": {},
   "source": []
  },
  {
   "cell_type": "code",
   "execution_count": 0,
   "metadata": {
    "colab": {
     "base_uri": "https://localhost:8080/",
     "height": 382
    },
    "colab_type": "code",
    "collapsed": true,
    "id": "un-vlvsI0f-1",
    "outputId": "bbcf6fcc-95ce-468a-d251-be317392b2a8"
   },
   "outputs": [
    {
     "ename": "KeyboardInterrupt",
     "evalue": "ignored",
     "output_type": "error",
     "traceback": [
      "\u001b[0;31m---------------------------------------------------------------------------\u001b[0m",
      "\u001b[0;31mKeyboardInterrupt\u001b[0m                         Traceback (most recent call last)",
      "\u001b[0;32m<ipython-input-17-bd0de9da336e>\u001b[0m in \u001b[0;36m<module>\u001b[0;34m()\u001b[0m\n\u001b[1;32m     13\u001b[0m   \u001b[0mimg_to_test\u001b[0m \u001b[0;34m=\u001b[0m \u001b[0mmodel_intermediate\u001b[0m\u001b[0;34m.\u001b[0m\u001b[0mpredict\u001b[0m\u001b[0;34m(\u001b[0m\u001b[0mnp\u001b[0m\u001b[0;34m.\u001b[0m\u001b[0mexpand_dims\u001b[0m\u001b[0;34m(\u001b[0m\u001b[0mimg_array\u001b[0m\u001b[0;34m,\u001b[0m \u001b[0maxis\u001b[0m\u001b[0;34m=\u001b[0m\u001b[0;36m0\u001b[0m\u001b[0;34m)\u001b[0m\u001b[0;34m)\u001b[0m\u001b[0;34m\u001b[0m\u001b[0;34m\u001b[0m\u001b[0m\n\u001b[1;32m     14\u001b[0m \u001b[0;34m\u001b[0m\u001b[0m\n\u001b[0;32m---> 15\u001b[0;31m   \u001b[0;32mfor\u001b[0m \u001b[0mX\u001b[0m\u001b[0;34m,\u001b[0m\u001b[0my\u001b[0m \u001b[0;32min\u001b[0m \u001b[0mig_euclidean\u001b[0m\u001b[0;34m:\u001b[0m\u001b[0;34m\u001b[0m\u001b[0;34m\u001b[0m\u001b[0m\n\u001b[0m\u001b[1;32m     16\u001b[0m     \u001b[0;32mfor\u001b[0m \u001b[0mpred\u001b[0m\u001b[0;34m,\u001b[0m \u001b[0mid_\u001b[0m \u001b[0;32min\u001b[0m \u001b[0mzip\u001b[0m\u001b[0;34m(\u001b[0m\u001b[0mmodel_intermediate\u001b[0m\u001b[0;34m.\u001b[0m\u001b[0mpredict\u001b[0m\u001b[0;34m(\u001b[0m\u001b[0mX\u001b[0m\u001b[0;34m)\u001b[0m\u001b[0;34m,\u001b[0m \u001b[0my\u001b[0m\u001b[0;34m[\u001b[0m\u001b[0;34m're_id'\u001b[0m\u001b[0;34m]\u001b[0m\u001b[0;34m)\u001b[0m\u001b[0;34m:\u001b[0m\u001b[0;34m\u001b[0m\u001b[0;34m\u001b[0m\u001b[0m\n\u001b[1;32m     17\u001b[0m       \u001b[0mdist\u001b[0m \u001b[0;34m=\u001b[0m \u001b[0mnp\u001b[0m\u001b[0;34m.\u001b[0m\u001b[0mlinalg\u001b[0m\u001b[0;34m.\u001b[0m\u001b[0mnorm\u001b[0m\u001b[0;34m(\u001b[0m\u001b[0mimg_to_test\u001b[0m \u001b[0;34m-\u001b[0m \u001b[0mpred\u001b[0m\u001b[0;34m)\u001b[0m\u001b[0;34m\u001b[0m\u001b[0;34m\u001b[0m\u001b[0m\n",
      "\u001b[0;32m/usr/local/lib/python3.6/dist-packages/tensorflow_core/python/keras/utils/data_utils.py\u001b[0m in \u001b[0;36m__iter__\u001b[0;34m(self)\u001b[0m\n\u001b[1;32m    403\u001b[0m   \u001b[0;32mdef\u001b[0m \u001b[0m__iter__\u001b[0m\u001b[0;34m(\u001b[0m\u001b[0mself\u001b[0m\u001b[0;34m)\u001b[0m\u001b[0;34m:\u001b[0m\u001b[0;34m\u001b[0m\u001b[0;34m\u001b[0m\u001b[0m\n\u001b[1;32m    404\u001b[0m     \u001b[0;34m\"\"\"Create a generator that iterate over the Sequence.\"\"\"\u001b[0m\u001b[0;34m\u001b[0m\u001b[0;34m\u001b[0m\u001b[0m\n\u001b[0;32m--> 405\u001b[0;31m     \u001b[0;32mfor\u001b[0m \u001b[0mitem\u001b[0m \u001b[0;32min\u001b[0m \u001b[0;34m(\u001b[0m\u001b[0mself\u001b[0m\u001b[0;34m[\u001b[0m\u001b[0mi\u001b[0m\u001b[0;34m]\u001b[0m \u001b[0;32mfor\u001b[0m \u001b[0mi\u001b[0m \u001b[0;32min\u001b[0m \u001b[0mrange\u001b[0m\u001b[0;34m(\u001b[0m\u001b[0mlen\u001b[0m\u001b[0;34m(\u001b[0m\u001b[0mself\u001b[0m\u001b[0;34m)\u001b[0m\u001b[0;34m)\u001b[0m\u001b[0;34m)\u001b[0m\u001b[0;34m:\u001b[0m\u001b[0;34m\u001b[0m\u001b[0;34m\u001b[0m\u001b[0m\n\u001b[0m\u001b[1;32m    406\u001b[0m       \u001b[0;32myield\u001b[0m \u001b[0mitem\u001b[0m\u001b[0;34m\u001b[0m\u001b[0;34m\u001b[0m\u001b[0m\n\u001b[1;32m    407\u001b[0m \u001b[0;34m\u001b[0m\u001b[0m\n",
      "\u001b[0;32m/usr/local/lib/python3.6/dist-packages/tensorflow_core/python/keras/utils/data_utils.py\u001b[0m in \u001b[0;36m<genexpr>\u001b[0;34m(.0)\u001b[0m\n\u001b[1;32m    403\u001b[0m   \u001b[0;32mdef\u001b[0m \u001b[0m__iter__\u001b[0m\u001b[0;34m(\u001b[0m\u001b[0mself\u001b[0m\u001b[0;34m)\u001b[0m\u001b[0;34m:\u001b[0m\u001b[0;34m\u001b[0m\u001b[0;34m\u001b[0m\u001b[0m\n\u001b[1;32m    404\u001b[0m     \u001b[0;34m\"\"\"Create a generator that iterate over the Sequence.\"\"\"\u001b[0m\u001b[0;34m\u001b[0m\u001b[0;34m\u001b[0m\u001b[0m\n\u001b[0;32m--> 405\u001b[0;31m     \u001b[0;32mfor\u001b[0m \u001b[0mitem\u001b[0m \u001b[0;32min\u001b[0m \u001b[0;34m(\u001b[0m\u001b[0mself\u001b[0m\u001b[0;34m[\u001b[0m\u001b[0mi\u001b[0m\u001b[0;34m]\u001b[0m \u001b[0;32mfor\u001b[0m \u001b[0mi\u001b[0m \u001b[0;32min\u001b[0m \u001b[0mrange\u001b[0m\u001b[0;34m(\u001b[0m\u001b[0mlen\u001b[0m\u001b[0;34m(\u001b[0m\u001b[0mself\u001b[0m\u001b[0;34m)\u001b[0m\u001b[0;34m)\u001b[0m\u001b[0;34m)\u001b[0m\u001b[0;34m:\u001b[0m\u001b[0;34m\u001b[0m\u001b[0;34m\u001b[0m\u001b[0m\n\u001b[0m\u001b[1;32m    406\u001b[0m       \u001b[0;32myield\u001b[0m \u001b[0mitem\u001b[0m\u001b[0;34m\u001b[0m\u001b[0;34m\u001b[0m\u001b[0m\n\u001b[1;32m    407\u001b[0m \u001b[0;34m\u001b[0m\u001b[0m\n",
      "\u001b[0;32m<ipython-input-5-b9f11a2b70ba>\u001b[0m in \u001b[0;36m__getitem__\u001b[0;34m(self, index)\u001b[0m\n\u001b[1;32m    101\u001b[0m \u001b[0;34m\u001b[0m\u001b[0m\n\u001b[1;32m    102\u001b[0m         \u001b[0;31m# Generate data\u001b[0m\u001b[0;34m\u001b[0m\u001b[0;34m\u001b[0m\u001b[0;34m\u001b[0m\u001b[0m\n\u001b[0;32m--> 103\u001b[0;31m         \u001b[0mX\u001b[0m\u001b[0;34m,\u001b[0m \u001b[0my\u001b[0m \u001b[0;34m=\u001b[0m \u001b[0mself\u001b[0m\u001b[0;34m.\u001b[0m\u001b[0m__data_generation\u001b[0m\u001b[0;34m(\u001b[0m\u001b[0mlist_IDs_temp\u001b[0m\u001b[0;34m)\u001b[0m\u001b[0;34m\u001b[0m\u001b[0;34m\u001b[0m\u001b[0m\n\u001b[0m\u001b[1;32m    104\u001b[0m \u001b[0;34m\u001b[0m\u001b[0m\n\u001b[1;32m    105\u001b[0m         \u001b[0;32mreturn\u001b[0m \u001b[0mX\u001b[0m\u001b[0;34m,\u001b[0m \u001b[0my\u001b[0m\u001b[0;34m\u001b[0m\u001b[0;34m\u001b[0m\u001b[0m\n",
      "\u001b[0;32m<ipython-input-5-b9f11a2b70ba>\u001b[0m in \u001b[0;36m__data_generation\u001b[0;34m(self, list_IDs_temp)\u001b[0m\n\u001b[1;32m    130\u001b[0m             \u001b[0mlabels\u001b[0m \u001b[0;34m=\u001b[0m \u001b[0mself\u001b[0m\u001b[0;34m.\u001b[0m\u001b[0mlabels\u001b[0m\u001b[0;34m.\u001b[0m\u001b[0mloc\u001b[0m\u001b[0;34m[\u001b[0m\u001b[0mimg_index\u001b[0m\u001b[0;34m]\u001b[0m\u001b[0;34m\u001b[0m\u001b[0;34m\u001b[0m\u001b[0m\n\u001b[1;32m    131\u001b[0m \u001b[0;34m\u001b[0m\u001b[0m\n\u001b[0;32m--> 132\u001b[0;31m             \u001b[0mX\u001b[0m\u001b[0;34m[\u001b[0m\u001b[0mi\u001b[0m\u001b[0;34m,\u001b[0m \u001b[0;34m]\u001b[0m \u001b[0;34m=\u001b[0m \u001b[0mimg_array\u001b[0m\u001b[0;34m\u001b[0m\u001b[0;34m\u001b[0m\u001b[0m\n\u001b[0m\u001b[1;32m    133\u001b[0m             \u001b[0my_attributes\u001b[0m\u001b[0;34m[\u001b[0m\u001b[0mi\u001b[0m\u001b[0;34m,\u001b[0m \u001b[0;34m]\u001b[0m \u001b[0;34m=\u001b[0m \u001b[0mlabels\u001b[0m\u001b[0;34m\u001b[0m\u001b[0;34m\u001b[0m\u001b[0m\n\u001b[1;32m    134\u001b[0m             \u001b[0my_id\u001b[0m\u001b[0;34m[\u001b[0m\u001b[0mi\u001b[0m\u001b[0;34m,\u001b[0m \u001b[0;34m]\u001b[0m \u001b[0;34m=\u001b[0m \u001b[0mtf\u001b[0m\u001b[0;34m.\u001b[0m\u001b[0mkeras\u001b[0m\u001b[0;34m.\u001b[0m\u001b[0mutils\u001b[0m\u001b[0;34m.\u001b[0m\u001b[0mto_categorical\u001b[0m\u001b[0;34m(\u001b[0m\u001b[0mself\u001b[0m\u001b[0;34m.\u001b[0m\u001b[0mlabels\u001b[0m\u001b[0;34m.\u001b[0m\u001b[0mindex\u001b[0m\u001b[0;34m.\u001b[0m\u001b[0mget_loc\u001b[0m\u001b[0;34m(\u001b[0m\u001b[0mimg_index\u001b[0m\u001b[0;34m)\u001b[0m\u001b[0;34m,\u001b[0m \u001b[0mnum_classes\u001b[0m\u001b[0;34m=\u001b[0m\u001b[0mself\u001b[0m\u001b[0;34m.\u001b[0m\u001b[0mn_ids\u001b[0m\u001b[0;34m)\u001b[0m\u001b[0;34m\u001b[0m\u001b[0;34m\u001b[0m\u001b[0m\n",
      "\u001b[0;31mKeyboardInterrupt\u001b[0m: "
     ]
    }
   ],
   "source": [
    "\"\"\"\n",
    "Compare le feature vector d'une image (query) avec toutes les autres images du dataset.\n",
    "Classe les images par ordre croissant (plus petite distance d'abord)\n",
    "\"\"\"\n",
    "\n",
    "image_to_test = '0780_c1s4_066836_00.jpg'\n",
    "\n",
    "img = tf.keras.preprocessing.image.load_img( \"projet CNN ESME 2019/Market-1501/\" + image_to_test, target_size=(224, 224, 3))\n",
    "img_array = tf.keras.preprocessing.image.img_to_array(img)\n",
    "img_array = tf.keras.applications.resnet50.preprocess_input(img_array)\n",
    "\n",
    "ig_euclidean = ImageGenerator(all_images[all_images != image_to_test], all_labels, should_augment=False, batch_size=256, n_classes=24, n_ids=1501, shuffle=False)\n",
    "\n",
    "dists = dict()\n",
    "\n",
    "img_to_test = model_intermediate.predict(np.expand_dims(img_array, axis=0))\n",
    "\n",
    "for X,y in ig_euclidean:\n",
    "    for pred, id_ in zip(model_intermediate.predict(X), y['re_id']):\n",
    "        dist = np.linalg.norm(img_to_test - pred)\n",
    "        dists[np.argmax(id_)] = np.min(np.append(dists.get(np.argmax(id_), []), dist))\n",
    "\n",
    "dists = {k: v for k, v in sorted(dists.items(), key=lambda item: item[1])}"
   ]
  },
  {
   "cell_type": "markdown",
   "metadata": {},
   "source": [
    "### Analyse de la prédiction d'attributs (sans les couleurs)"
   ]
  },
  {
   "cell_type": "code",
   "execution_count": 8,
   "metadata": {
    "colab": {},
    "colab_type": "code",
    "collapsed": true,
    "id": "eFeJ4HlvPRrG"
   },
   "outputs": [
    {
     "ename": "NameError",
     "evalue": "name 'ig_test_multilabel' is not defined",
     "output_type": "error",
     "traceback": [
      "\u001b[1;31m---------------------------------------------------------------------------\u001b[0m",
      "\u001b[1;31mNameError\u001b[0m                                 Traceback (most recent call last)",
      "\u001b[1;32m<ipython-input-8-5ab8e5e31588>\u001b[0m in \u001b[0;36m<module>\u001b[1;34m\u001b[0m\n\u001b[0;32m      2\u001b[0m \u001b[0mdf_labels\u001b[0m \u001b[1;33m=\u001b[0m \u001b[0mpd\u001b[0m\u001b[1;33m.\u001b[0m\u001b[0mDataFrame\u001b[0m\u001b[1;33m(\u001b[0m\u001b[0mcolumns\u001b[0m\u001b[1;33m=\u001b[0m\u001b[1;33m[\u001b[0m\u001b[1;34m'age'\u001b[0m\u001b[1;33m,\u001b[0m \u001b[1;34m'backpack'\u001b[0m\u001b[1;33m,\u001b[0m \u001b[1;34m'bag'\u001b[0m\u001b[1;33m,\u001b[0m \u001b[1;34m'handbag'\u001b[0m\u001b[1;33m,\u001b[0m \u001b[1;34m'clothes'\u001b[0m\u001b[1;33m,\u001b[0m \u001b[1;34m'down'\u001b[0m\u001b[1;33m,\u001b[0m \u001b[1;34m'up'\u001b[0m\u001b[1;33m,\u001b[0m \u001b[1;34m'hair'\u001b[0m\u001b[1;33m,\u001b[0m \u001b[1;34m'hat'\u001b[0m\u001b[1;33m,\u001b[0m \u001b[1;34m'gender'\u001b[0m\u001b[1;33m]\u001b[0m\u001b[1;33m)\u001b[0m\u001b[1;33m\u001b[0m\u001b[1;33m\u001b[0m\u001b[0m\n\u001b[0;32m      3\u001b[0m \u001b[1;33m\u001b[0m\u001b[0m\n\u001b[1;32m----> 4\u001b[1;33m \u001b[1;32mfor\u001b[0m \u001b[1;33m(\u001b[0m\u001b[0mX\u001b[0m\u001b[1;33m,\u001b[0m\u001b[0my\u001b[0m\u001b[1;33m)\u001b[0m \u001b[1;32min\u001b[0m \u001b[0mig_test_multilabel\u001b[0m\u001b[1;33m:\u001b[0m\u001b[1;33m\u001b[0m\u001b[1;33m\u001b[0m\u001b[0m\n\u001b[0m\u001b[0;32m      5\u001b[0m     \u001b[0mpreds\u001b[0m \u001b[1;33m=\u001b[0m \u001b[0mmodel\u001b[0m\u001b[1;33m.\u001b[0m\u001b[0mpredict\u001b[0m\u001b[1;33m(\u001b[0m\u001b[0mX\u001b[0m\u001b[1;33m)\u001b[0m\u001b[1;33m\u001b[0m\u001b[1;33m\u001b[0m\u001b[0m\n\u001b[0;32m      6\u001b[0m     \u001b[0mdf_preds\u001b[0m \u001b[1;33m=\u001b[0m \u001b[0mdf_preds\u001b[0m\u001b[1;33m.\u001b[0m\u001b[0mappend\u001b[0m\u001b[1;33m(\u001b[0m\u001b[0mpd\u001b[0m\u001b[1;33m.\u001b[0m\u001b[0mDataFrame\u001b[0m\u001b[1;33m(\u001b[0m\u001b[0mnp\u001b[0m\u001b[1;33m.\u001b[0m\u001b[0mround\u001b[0m\u001b[1;33m(\u001b[0m\u001b[0mpreds\u001b[0m\u001b[1;33m)\u001b[0m\u001b[1;33m,\u001b[0m \u001b[0mcolumns\u001b[0m\u001b[1;33m=\u001b[0m\u001b[1;33m[\u001b[0m\u001b[1;34m'age'\u001b[0m\u001b[1;33m,\u001b[0m \u001b[1;34m'backpack'\u001b[0m\u001b[1;33m,\u001b[0m \u001b[1;34m'bag'\u001b[0m\u001b[1;33m,\u001b[0m \u001b[1;34m'handbag'\u001b[0m\u001b[1;33m,\u001b[0m \u001b[1;34m'clothes'\u001b[0m\u001b[1;33m,\u001b[0m \u001b[1;34m'down'\u001b[0m\u001b[1;33m,\u001b[0m \u001b[1;34m'up'\u001b[0m\u001b[1;33m,\u001b[0m \u001b[1;34m'hair'\u001b[0m\u001b[1;33m,\u001b[0m \u001b[1;34m'hat'\u001b[0m\u001b[1;33m,\u001b[0m \u001b[1;34m'gender'\u001b[0m\u001b[1;33m]\u001b[0m\u001b[1;33m)\u001b[0m\u001b[1;33m)\u001b[0m\u001b[1;33m\u001b[0m\u001b[1;33m\u001b[0m\u001b[0m\n",
      "\u001b[1;31mNameError\u001b[0m: name 'ig_test_multilabel' is not defined"
     ]
    }
   ],
   "source": [
    "df_preds = pd.DataFrame(columns=['age', 'backpack', 'bag', 'handbag', 'clothes', 'down', 'up', 'hair', 'hat', 'gender'])\n",
    "df_labels = pd.DataFrame(columns=['age', 'backpack', 'bag', 'handbag', 'clothes', 'down', 'up', 'hair', 'hat', 'gender'])\n",
    "\n",
    "for (X,y) in ig_test_multilabel:\n",
    "    preds = model.predict(X)\n",
    "    df_preds = df_preds.append(pd.DataFrame(np.round(preds), columns=['age', 'backpack', 'bag', 'handbag', 'clothes', 'down', 'up', 'hair', 'hat', 'gender']))\n",
    "    df_labels = df_labels.append(pd.DataFrame(y, columns=['age', 'backpack', 'bag', 'handbag', 'clothes', 'down', 'up', 'hair', 'hat', 'gender']))"
   ]
  },
  {
   "cell_type": "code",
   "execution_count": 0,
   "metadata": {
    "colab": {
     "base_uri": "https://localhost:8080/",
     "height": 191
    },
    "colab_type": "code",
    "id": "hmHh87qUfzl4",
    "outputId": "dd763ea8-de75-48c1-a02c-7fecfeef6a10"
   },
   "outputs": [
    {
     "name": "stdout",
     "output_type": "stream",
     "text": [
      "age 66.15\n",
      "backpack 76.74\n",
      "bag 62.47\n",
      "handbag 50.35\n",
      "clothes 83.92\n",
      "down 92.65\n",
      "up 50.0\n",
      "hair 85.13\n",
      "hat 50.0\n",
      "gender 88.29\n"
     ]
    }
   ],
   "source": [
    "columns = ['age', 'backpack', 'bag', 'handbag', 'clothes', 'down', 'up', 'hair', 'hat', 'gender']\n",
    "\n",
    "from sklearn.metrics import roc_auc_score\n",
    "\n",
    "for column in columns:\n",
    "    score = round(roc_auc_score(df_labels[column], df_preds[column])*100, 2)\n",
    "    print(column, score)"
   ]
  },
  {
   "cell_type": "code",
   "execution_count": 0,
   "metadata": {
    "colab": {
     "base_uri": "https://localhost:8080/",
     "height": 86
    },
    "colab_type": "code",
    "id": "MDDwuD5Pb2MA",
    "outputId": "ca632144-c5fa-4508-c1aa-08b4e5ec6453"
   },
   "outputs": [
    {
     "name": "stdout",
     "output_type": "stream",
     "text": [
      "faux pos: 61.82\n",
      "faux neg: 5.88\n",
      "vrai pos: 38.18\n",
      "vrai neg: 94.12\n"
     ]
    }
   ],
   "source": [
    "conf_matrix = sklearn.metrics.confusion_matrix(df_labels['age'], df_preds['age'])\n",
    "fp = round(conf_matrix[1][0]/(conf_matrix[1][0]+conf_matrix[1][1])*100, 2)\n",
    "fn = round(conf_matrix[0][1]/(conf_matrix[0][0]+conf_matrix[0][1])*100, 2)\n",
    "\n",
    "print('faux pos:', fp)\n",
    "print('faux neg:', fn)\n",
    "\n",
    "print('vrai pos:', 100 - fp)\n",
    "print('vrai neg:', 100 - fn)\n"
   ]
  },
  {
   "cell_type": "code",
   "execution_count": 0,
   "metadata": {
    "colab": {
     "base_uri": "https://localhost:8080/",
     "height": 445
    },
    "colab_type": "code",
    "id": "MoSoGXmUgW_D",
    "outputId": "2ac565a4-b9de-4cde-8de3-331e2d5853de"
   },
   "outputs": [
    {
     "name": "stdout",
     "output_type": "stream",
     "text": [
      "(0.794247853472613, 0.8046640825522557, 0.7934903073181514, None)\n"
     ]
    },
    {
     "data": {
      "image/png": "[encoded data removed]",
      "text/plain": [
       "<Figure size 720x504 with 2 Axes>"
      ]
     },
     "metadata": {
      "tags": []
     },
     "output_type": "display_data"
    }
   ],
   "source": [
    "upcolor_labels = ['upblack', 'upblue', 'upgreen', 'upgray', 'uppurple', 'upred', 'upwhite', 'upyellow']\n",
    "gender_labels = ['man', 'woman']\n",
    "confusion_matrix(ig_test_upcolor, upcolor_labels)"
   ]
  }
 ],
 "metadata": {
  "accelerator": "GPU",
  "colab": {
   "collapsed_sections": [],
   "name": "CNN - 2.ipynb",
   "provenance": []
  },
  "kernelspec": {
   "display_name": "Python 3",
   "language": "python",
   "name": "python3"
  },
  "language_info": {
   "codemirror_mode": {
    "name": "ipython",
    "version": 3
   },
   "file_extension": ".py",
   "mimetype": "text/x-python",
   "name": "python",
   "nbconvert_exporter": "python",
   "pygments_lexer": "ipython3",
   "version": "3.7.1"
  }
 },
 "nbformat": 4,
 "nbformat_minor": 1
}
