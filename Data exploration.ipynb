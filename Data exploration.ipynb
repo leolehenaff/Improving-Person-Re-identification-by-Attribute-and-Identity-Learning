{
 "cells": [
  {
   "cell_type": "code",
   "execution_count": 25,
   "metadata": {},
   "outputs": [],
   "source": [
    "import json\n",
    "import numpy as np\n",
    "from os import walk\n",
    "import matplotlib.pyplot as plt\n",
    "import pandas as pd"
   ]
  },
  {
   "cell_type": "code",
   "execution_count": 33,
   "metadata": {},
   "outputs": [
    {
     "name": "stdout",
     "output_type": "stream",
     "text": [
      "13115\n",
      "[2, 2, 2, 2, 2, 1, 1, 1, 2, 1, 2, 2]\n"
     ]
    }
   ],
   "source": [
    "with open('gallery.json') as json_file:\n",
    "    data = json.load(json_file)\n",
    "    print(len(data))\n",
    "    print(data[0])"
   ]
  },
  {
   "cell_type": "markdown",
   "metadata": {},
   "source": [
    "## Helpers to get train/test images/labels"
   ]
  },
  {
   "cell_type": "code",
   "execution_count": 74,
   "metadata": {},
   "outputs": [],
   "source": [
    "def get_train_test_labels():\n",
    "    train_labels = dict()\n",
    "    test_labels = dict()\n",
    "\n",
    "    with open('market_attribute.json') as json_file:\n",
    "        data = json.load(json_file)\n",
    "        train = data['train']\n",
    "        test = data['test']\n",
    "\n",
    "        for i, image_index in enumerate(train['image_index']):\n",
    "            img_labels = []\n",
    "            for key in train.keys():\n",
    "                if key != 'image_index':\n",
    "                    img_labels.append(train[key][i])\n",
    "            train_labels[image_index] = np.array(img_labels)\n",
    "            \n",
    "        for i, image_index in enumerate(test['image_index']):\n",
    "            img_labels = []\n",
    "            for key in train.keys():\n",
    "                if key != 'image_index':\n",
    "                    img_labels.append(train[key][i])\n",
    "            test_labels[image_index] = np.array(img_labels)\n",
    "            \n",
    "    return train_labels, test_labels"
   ]
  },
  {
   "cell_type": "code",
   "execution_count": null,
   "metadata": {},
   "outputs": [],
   "source": []
  },
  {
   "cell_type": "code",
   "execution_count": 73,
   "metadata": {},
   "outputs": [],
   "source": [
    "def get_train_test_images():\n",
    "    files = []\n",
    "    for (dirpath, dirnames, filenames) in walk(\"./Market-1501\"):\n",
    "        files.extend(filenames)\n",
    "        break\n",
    "        \n",
    "    print('number of images:', len(files))\n",
    "    \n",
    "    files.sort()\n",
    "    \n",
    "        \n",
    "    train_images = []\n",
    "    test_images = []\n",
    "    with open('market_attribute.json') as json_file:\n",
    "        data = json.load(json_file)\n",
    "        train_indexes = data['train']['image_index']\n",
    "        test_indexes = data['test']['image_index']\n",
    "        for i, file in enumerate(files):\n",
    "            if file[:4] in train_indexes:\n",
    "                train_images.append(file)\n",
    "            elif file[:4] in test_indexes:\n",
    "                test_images.append(file)\n",
    "                \n",
    "    return (train_images, test_images)\n",
    "    "
   ]
  },
  {
   "cell_type": "code",
   "execution_count": 120,
   "metadata": {},
   "outputs": [],
   "source": [
    "import numpy as np\n",
    "from keras.utils import Sequence\n",
    "from keras_preprocessing import image\n",
    "from keras.applications.resnet50 import preprocess_input\n",
    "\n",
    "from PIL import Image\n",
    "\n",
    "class ImageGenerator(Sequence):\n",
    "\n",
    "    def __init__(self, list_IDs, labels, batch_size=32, dim=(224, 224), n_channels=3,\n",
    "                 n_classes=10, shuffle=True):\n",
    "\n",
    "        self.dim = dim\n",
    "        self.batch_size = batch_size\n",
    "        self.labels = labels\n",
    "        self.list_IDs = list_IDs\n",
    "        self.n_channels = n_channels\n",
    "        self.n_classes = n_classes\n",
    "        self.shuffle = shuffle\n",
    "        self.on_epoch_end()\n",
    "\n",
    "    def __len__(self):\n",
    "        return int(np.floor(len(self.list_IDs) / self.batch_size))\n",
    "\n",
    "    def __getitem__(self, index):\n",
    "        # Generate indexes of the batch\n",
    "        indexes = self.indexes[index*self.batch_size:(index+1)*self.batch_size]\n",
    "\n",
    "        # Find list of IDs\n",
    "        list_IDs_temp = [self.list_IDs[k] for k in indexes]\n",
    "\n",
    "        # Generate data\n",
    "        X, y = self.__data_generation(list_IDs_temp)\n",
    "\n",
    "        return X, y\n",
    "\n",
    "    def on_epoch_end(self):\n",
    "        self.indexes = np.arange(len(self.list_IDs))\n",
    "        if self.shuffle == True:\n",
    "            np.random.shuffle(self.indexes)\n",
    "\n",
    "    def __data_generation(self, list_IDs_temp):\n",
    "        X = np.empty((self.batch_size, * self.dim, self.n_channels))\n",
    "        y = np.empty((self.batch_size, self.n_classes), dtype=int)\n",
    "\n",
    "        for i, image_path in enumerate(list_IDs_temp):\n",
    "            img = image.load_img(\"Market-1501/\" + image_path, target_size=(224, 224, 3))\n",
    "            \n",
    "            img_array = image.img_to_array(img)\n",
    "            img_array = preprocess_input(img_array)\n",
    "\n",
    "            img_index = image_path[:4]\n",
    "\n",
    "            labels = np.delete(self.labels[img_index], 0) - 1\n",
    "            \n",
    "            X[i, ] = img_array\n",
    "            y[i, ] = labels\n",
    "            \n",
    "        return X, y"
   ]
  },
  {
   "cell_type": "code",
   "execution_count": 121,
   "metadata": {},
   "outputs": [
    {
     "name": "stdout",
     "output_type": "stream",
     "text": [
      "number of images: 25260\n"
     ]
    }
   ],
   "source": [
    "train_images, test_images = get_train_test_images()\n",
    "train_labels, test_labels = get_train_test_labels()"
   ]
  },
  {
   "cell_type": "code",
   "execution_count": 122,
   "metadata": {},
   "outputs": [
    {
     "name": "stdout",
     "output_type": "stream",
     "text": [
      "0757\n",
      "[0 0 0 0 0 1 0 0 0 0 0 0 0 0 0 0 0 0 1 0 1 1 1 0 0 0]\n"
     ]
    }
   ],
   "source": [
    "from PIL import Image\n",
    "\n",
    "\n",
    "ig = ImageGenerator(train_images, train_labels, n_classes=26)\n",
    "\n"
   ]
  },
  {
   "cell_type": "code",
   "execution_count": null,
   "metadata": {},
   "outputs": [],
   "source": []
  },
  {
   "cell_type": "markdown",
   "metadata": {},
   "source": [
    "## Images attributes proportions analysis"
   ]
  },
  {
   "cell_type": "code",
   "execution_count": 103,
   "metadata": {},
   "outputs": [
    {
     "name": "stdout",
     "output_type": "stream",
     "text": [
      "number of images: 25260\n"
     ]
    }
   ],
   "source": [
    "files = []\n",
    "for (dirpath, dirnames, filenames) in walk(\"./Market-1501\"):\n",
    "    files.extend(filenames)\n",
    "    break\n",
    "\n",
    "print('number of images:', len(files))\n",
    "\n",
    "files.sort()\n",
    "\n",
    "\n",
    "image_rep = dict()\n",
    "\n",
    "with open('market_attribute.json') as json_file:\n",
    "    data = json.load(json_file)\n",
    "    train = data['train']\n",
    "    train_indexes = train['image_index']\n",
    "    \n",
    "    for i, file in enumerate(files):\n",
    "        if file[:4] in train_indexes:\n",
    "            image_rep[file[:4]] = image_rep.get(file[:4], 0) + 1\n",
    "    \n",
    "    real_attributes = dict()\n",
    "    for key in train.keys():\n",
    "        if key != \"image_index\":\n",
    "            for attr_val, index in zip(train[key], train_indexes):\n",
    "                attrs = real_attributes.get(key, [])\n",
    "                attrs.extend(attr_val for x in range(image_rep[index]))\n",
    "                real_attributes[key] = attrs\n",
    "                \n",
    "    up_color = {\n",
    "        'upblack': real_attributes['upblack'], \n",
    "        'upwhite': real_attributes['upwhite'], \n",
    "        'upred': real_attributes['upred'], \n",
    "        'uppurple': real_attributes['uppurple'], \n",
    "        'upyellow': real_attributes['upyellow'], \n",
    "        'upgray': real_attributes['upgray'],\n",
    "        'upblue': real_attributes['upblue'],\n",
    "        'upgreen': real_attributes['upgreen']  \n",
    "    }\n",
    "    \n",
    "    down_color = {\n",
    "        'downblack': real_attributes['downblack'], \n",
    "        'downwhite': real_attributes['downwhite'], \n",
    "        'downpink': real_attributes['downpink'], \n",
    "        'downpurple': real_attributes['downpurple'], \n",
    "        'downyellow': real_attributes['downyellow'], \n",
    "        'downgray': real_attributes['downgray'], \n",
    "        'downblue': real_attributes['downblue'],\n",
    "        'downgreen': real_attributes['downgreen'],\n",
    "        'downbrown': real_attributes['downbrown']\n",
    "    }\n",
    "\n",
    "    df_up = pd.DataFrame(data=up_color).idxmax(1)\n",
    "    df_down = pd.DataFrame(data=down_color).idxmax(1)"
   ]
  },
  {
   "cell_type": "code",
   "execution_count": 108,
   "metadata": {},
   "outputs": [],
   "source": [
    "def plot_color_hist(values, labels):\n",
    "    bins = np.arange(len(values))\n",
    "\n",
    "    width = 0.7 * (bins[1] - bins[0])\n",
    "    center = np.arange(len(values))\n",
    "\n",
    "    ax = plt.subplot(111)\n",
    "\n",
    "    ax.bar(center, values, align='center', width=width)\n",
    "    plt.xticks(bins, labels)\n",
    "    plt.title('colors')\n",
    "    plt.show()"
   ]
  },
  {
   "cell_type": "code",
   "execution_count": 109,
   "metadata": {},
   "outputs": [],
   "source": [
    "def plot_attr_hist(title, attribute_vals):\n",
    "    unique, counts = np.unique(attribute_vals, return_counts=True)\n",
    "    width = 0.7 * (bins[1] - bins[0])\n",
    "    center = unique\n",
    "    plt.bar(center, counts, align='center', width=width)\n",
    "    plt.title(title)\n",
    "    plt.show()"
   ]
  },
  {
   "cell_type": "code",
   "execution_count": 110,
   "metadata": {},
   "outputs": [
    {
     "data": {
      "image/png": "[encoded data removed]",
      "text/plain": [
       "<Figure size 432x288 with 1 Axes>"
      ]
     },
     "metadata": {
      "needs_background": "light"
     },
     "output_type": "display_data"
    },
    {
     "data": {
      "image/png": "[encoded data removed]",
      "text/plain": [
       "<Figure size 432x288 with 1 Axes>"
      ]
     },
     "metadata": {
      "needs_background": "light"
     },
     "output_type": "display_data"
    },
    {
     "data": {
      "image/png": "[encoded data removed]",
      "text/plain": [
       "<Figure size 432x288 with 1 Axes>"
      ]
     },
     "metadata": {
      "needs_background": "light"
     },
     "output_type": "display_data"
    },
    {
     "data": {
      "image/png": "[encoded data removed]",
      "text/plain": [
       "<Figure size 432x288 with 1 Axes>"
      ]
     },
     "metadata": {
      "needs_background": "light"
     },
     "output_type": "display_data"
    },
    {
     "data": {
      "image/png": "[encoded data removed]",
      "text/plain": [
       "<Figure size 432x288 with 1 Axes>"
      ]
     },
     "metadata": {
      "needs_background": "light"
     },
     "output_type": "display_data"
    },
    {
     "data": {
      "image/png": "[encoded data removed]",
      "text/plain": [
       "<Figure size 432x288 with 1 Axes>"
      ]
     },
     "metadata": {
      "needs_background": "light"
     },
     "output_type": "display_data"
    },
    {
     "data": {
      "image/png": "[encoded data removed]",
      "text/plain": [
       "<Figure size 432x288 with 1 Axes>"
      ]
     },
     "metadata": {
      "needs_background": "light"
     },
     "output_type": "display_data"
    },
    {
     "data": {
      "image/png": "[encoded data removed]",
      "text/plain": [
       "<Figure size 432x288 with 1 Axes>"
      ]
     },
     "metadata": {
      "needs_background": "light"
     },
     "output_type": "display_data"
    },
    {
     "data": {
      "image/png": "[encoded data removed]",
      "text/plain": [
       "<Figure size 432x288 with 1 Axes>"
      ]
     },
     "metadata": {
      "needs_background": "light"
     },
     "output_type": "display_data"
    },
    {
     "data": {
      "image/png": "[encoded data removed]",
      "text/plain": [
       "<Figure size 432x288 with 1 Axes>"
      ]
     },
     "metadata": {
      "needs_background": "light"
     },
     "output_type": "display_data"
    },
    {
     "data": {
      "image/png": "[encoded data removed]",
      "text/plain": [
       "<Figure size 432x288 with 1 Axes>"
      ]
     },
     "metadata": {
      "needs_background": "light"
     },
     "output_type": "display_data"
    },
    {
     "data": {
      "image/png": "[encoded data removed]",
      "text/plain": [
       "<Figure size 432x288 with 1 Axes>"
      ]
     },
     "metadata": {
      "needs_background": "light"
     },
     "output_type": "display_data"
    }
   ],
   "source": [
    "plot_attr_hist('age', real_attributes['age'])\n",
    "plot_attr_hist('backpack',real_attributes['backpack'])\n",
    "plot_attr_hist('bag',real_attributes['bag'])\n",
    "plot_attr_hist('handbag',real_attributes['handbag'])\n",
    "plot_attr_hist('clothes',real_attributes['clothes'])\n",
    "plot_attr_hist('down',real_attributes['down'])\n",
    "plot_attr_hist('up',real_attributes['up'])\n",
    "plot_attr_hist('hair',real_attributes['hair'])\n",
    "plot_attr_hist('hat',real_attributes['hat'])\n",
    "plot_attr_hist('gender',real_attributes['gender'])\n",
    "\n",
    "plot_color_hist(df_up.value_counts().values, df_up.value_counts().index.values)\n",
    "plot_color_hist(df_down.value_counts().values, df_down.value_counts().index.values)"
   ]
  }
 ],
 "metadata": {
  "kernelspec": {
   "display_name": "Python 3",
   "language": "python",
   "name": "python3"
  },
  "language_info": {
   "codemirror_mode": {
    "name": "ipython",
    "version": 3
   },
   "file_extension": ".py",
   "mimetype": "text/x-python",
   "name": "python",
   "nbconvert_exporter": "python",
   "pygments_lexer": "ipython3",
   "version": "3.7.1"
  }
 },
 "nbformat": 4,
 "nbformat_minor": 2
}
